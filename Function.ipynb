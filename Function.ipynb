{
  "nbformat": 4,
  "nbformat_minor": 0,
  "metadata": {
    "colab": {
      "provenance": []
    },
    "kernelspec": {
      "name": "python3",
      "display_name": "Python 3"
    },
    "language_info": {
      "name": "python"
    }
  },
  "cells": [
    {
      "cell_type": "code",
      "execution_count": 17,
      "metadata": {
        "id": "JrEicceQTu6S"
      },
      "outputs": [],
      "source": [
        "\n",
        "\n"
      ]
    },
    {
      "cell_type": "markdown",
      "source": [
        "Q-1: What is the difference between a function and a method in Python?\n",
        "\n",
        "-> A function is an independent block of reusable code that is not associated with an object, whereas a method is a function that is associated with an object\n",
        "\n",
        "-> EX:\n",
        "1).\n",
        "\n",
        " Function (independent)\n",
        "def greet(name):\n",
        "    return f\"Hello, {name}\"\n",
        "\n",
        "print(greet(\"Alice\")) // Output: Hello, Alice\n",
        "\n",
        "2).\n",
        "\n",
        "Method (associated with an object)\n",
        "class Person:\n",
        "    def __init__(self, name):\n",
        "        self.name = name\n",
        "\n",
        "    def greet(self)\n",
        "        return f\"Hello, {self.name}\"\n",
        "\n",
        "p = Person(\"Alice\")\n",
        "print(p.greet())  # Output: Hello, Alice\n",
        "\n",
        "\n",
        "Q-2:Explain the concept of function arguments and parameters in Python.\n",
        "\n",
        "->Parameters are the variables listed in the function definition.\n",
        "\n",
        "->Arguments are the actual values passed to the function when calling it.\n",
        "\n",
        "EX:\n",
        "def add(a, b):\n",
        "    return a + b\n",
        "\n",
        "result = add(5, 3)\n",
        "print(result)  // Output: 8\n",
        "\n",
        "\n",
        "Q-3: What are the different ways to define and call a function in Python?\n",
        "\n",
        "->#simple function\n",
        "\n",
        "def square(n):\n",
        "    return n * n\n",
        "\n",
        "\n",
        "print(square(4))  # Output: 16\n",
        "\n",
        "-> # Function with lambda\n",
        "square = lambda n: n * n\n",
        "\n",
        "print(square(4))  # Output: 16\n",
        "\n",
        "Q-4:What is the purpose of the `return` statement in a Python function?\n",
        "\n",
        "->The return statement is used to send a value back to the caller from a function.\n",
        "\n",
        "EX:\n",
        "def multiply(a, b):\n",
        "\n",
        "    return a * b\n",
        "\n",
        "result = multiply(3, 4)\n",
        "\n",
        "print(result)  # Output: 12\n",
        "\n",
        "Q-5:What are iterators in Python and how do they differ from iterables?\n",
        "\n",
        "->Iterable: An object that contains multiple values e.g., list, tuple, string.\n",
        "\n",
        "->Iterator: An object that produces values from an iterable one at a time.\n",
        "\n",
        "\n",
        "EX:\n",
        "\n",
        "numbers = [1, 2, 3]\n",
        "\n",
        "iterator = iter(numbers)\n",
        "\n",
        "print(next(iterator))  # Output: 1\n",
        "\n",
        "print(next(iterator))  # Output: 2\n",
        "\n",
        "\n",
        "\n",
        "\n",
        "Q-6:Explain the concept of generators in Python and how they are defined.\n",
        "\n",
        "->Generators are special functions that return values lazily using yield, instead of returning all values at once.\n",
        "\n",
        "\n",
        "EX:\n",
        "\n",
        "def count_up_to(n):\n",
        "\n",
        "    count = 1\n",
        "    while count <= n:\n",
        "        yield count\n",
        "        count += 1\n",
        "\n",
        "\n",
        "for num in count_up_to(5):\n",
        "\n",
        "    print(num)\n",
        "\n",
        "Q-7:What are the advantages of using generators over regular functions?\n",
        "\n",
        "->Memory efficient,Improves performance in loops.\n",
        "\n",
        "\n",
        "Q-8:. What is a lambda function in Python and when is it typically used?\n",
        "\n",
        "->A lambda function is an without a name that can have any number of arguments but only one expression.\n",
        "\n",
        "EX:\n",
        "\n",
        "square = lambda x: x * x\n",
        "print(square(5))  # Output: 25\n",
        "\n",
        "Q-9:Explain the purpose and usage of the `map()` function in Python\n",
        "\n",
        "->The map() function applies a function to all elements in an iterable.\n",
        "\n",
        "EX:\n",
        "numbers = [1, 2, 3, 4]\n",
        "squared = list(map(lambda x: x * x, numbers))\n",
        "print(squared)  # Output: [1, 4, 9, 16]\n",
        "\n",
        "Q-10:What is the difference between `map()`, `reduce()`, and `filter()` functions in Python\n",
        "\n",
        "-> map(): Applies a function to each element in an iterable.\n",
        "\n",
        "->filter(): Filters elements based on a condition.\n",
        "\n",
        "->reduce(): Reduces an iterable to a single value.\n",
        "\n",
        "\n",
        "EX:\n",
        "from functools import reduce\n",
        "\n",
        "numbers = [1, 2, 3, 4, 5]\n",
        "\n",
        "# map\n",
        "squared = list(map(lambda x: x * x, numbers))\n",
        "print(squared)  # Output: [1, 4, 9, 16, 25]\n",
        "\n",
        "# filter()\n",
        "evens = list(filter(lambda x: x % 2 == 0, numbers))\n",
        "print(evens)  # Output: [2, 4]\n",
        "\n",
        "# reduce()\n",
        "sum_result = reduce(lambda x, y: x + y, numbers)\n",
        "print(sum_result)  # Output: 15\n"
      ],
      "metadata": {
        "id": "1HwS69aSelVW"
      }
    },
    {
      "cell_type": "code",
      "source": [
        "#Coding"
      ],
      "metadata": {
        "id": "aj4nqgqTckX-"
      },
      "execution_count": null,
      "outputs": []
    },
    {
      "cell_type": "code",
      "source": [
        "#Q-1: Write a Python function that takes a list of numbers as input and returns the sum of all even numbers in the list.\n",
        "def sum_of_evens(l1):\n",
        "    return sum(i for i in l1 if i % 2 == 0)\n",
        "\n",
        "\n",
        "l1 = [1, 2, 3, 4, 5, 6]\n",
        "print(sum_of_evens(l1))\n",
        "\n"
      ],
      "metadata": {
        "colab": {
          "base_uri": "https://localhost:8080/"
        },
        "id": "YsqZmvyLUzV4",
        "outputId": "250354f3-8b11-4853-86f3-36df9985fffe"
      },
      "execution_count": 2,
      "outputs": [
        {
          "output_type": "stream",
          "name": "stdout",
          "text": [
            "12\n"
          ]
        }
      ]
    },
    {
      "cell_type": "code",
      "source": [
        "#Q-2:  Create a Python function that accepts a string and returns the reverse of that string.\n",
        "\n",
        "def reversed_string(s):\n",
        "    return s[::-1]\n",
        "\n",
        "\n",
        "a = \"kevin\"\n",
        "print(reversed_string(a))\n"
      ],
      "metadata": {
        "colab": {
          "base_uri": "https://localhost:8080/"
        },
        "id": "5KdtmXU8VHdz",
        "outputId": "f095b732-eff3-4032-f274-40775f3e7c52"
      },
      "execution_count": 4,
      "outputs": [
        {
          "output_type": "stream",
          "name": "stdout",
          "text": [
            "nivek\n"
          ]
        }
      ]
    },
    {
      "cell_type": "code",
      "source": [
        "# Q-3: Implement a Python function that takes a list of integers and returns a new list containing the squares of each number.\n",
        "\n",
        "def square_numbers(numbers):\n",
        "    return [num ** 2 for num in numbers]\n",
        "\n",
        "\n",
        "nums = [1, 2, 3, 4, 5]\n",
        "print(square_numbers(nums))\n"
      ],
      "metadata": {
        "colab": {
          "base_uri": "https://localhost:8080/"
        },
        "id": "XWq4EJwcVi_K",
        "outputId": "4de5566a-6214-4da3-eac6-991ade176ee2"
      },
      "execution_count": 5,
      "outputs": [
        {
          "output_type": "stream",
          "name": "stdout",
          "text": [
            "[1, 4, 9, 16, 25]\n"
          ]
        }
      ]
    },
    {
      "cell_type": "code",
      "source": [
        "#Q-4: Write a Python function that checks if a given number is prime or not from 1 to 200.\n",
        "\n",
        "def is_prime(n):\n",
        "    if n < 2:\n",
        "        return False\n",
        "    for i in range(2, n):\n",
        "        if n % i == 0:\n",
        "            return False\n",
        "    return True\n",
        "\n",
        "\n",
        "prime_numbers = [num for num in range(1, 201) if is_prime(num)]\n",
        "print(prime_numbers)\n"
      ],
      "metadata": {
        "colab": {
          "base_uri": "https://localhost:8080/"
        },
        "id": "U8-OKQImV1Mv",
        "outputId": "191e3e87-fddd-4e3f-9d5c-c28af43792da"
      },
      "execution_count": 6,
      "outputs": [
        {
          "output_type": "stream",
          "name": "stdout",
          "text": [
            "[2, 3, 5, 7, 11, 13, 17, 19, 23, 29, 31, 37, 41, 43, 47, 53, 59, 61, 67, 71, 73, 79, 83, 89, 97, 101, 103, 107, 109, 113, 127, 131, 137, 139, 149, 151, 157, 163, 167, 173, 179, 181, 191, 193, 197, 199]\n"
          ]
        }
      ]
    },
    {
      "cell_type": "code",
      "source": [
        "# Q-5: Create an iterator class in Python that generates the Fibonacci sequence up to a specified number of terms.\n",
        "def fibo(n):\n",
        "    if n <= 1:\n",
        "        return n\n",
        "    return fibo(n - 1) + fibo(n - 2)\n",
        "\n",
        "\n",
        "print(fibo(10))\n",
        "\n",
        "\n"
      ],
      "metadata": {
        "colab": {
          "base_uri": "https://localhost:8080/"
        },
        "id": "Yc9TMztIW3Xq",
        "outputId": "db64651e-7434-4862-e9f6-a557f7e660dc"
      },
      "execution_count": 8,
      "outputs": [
        {
          "output_type": "stream",
          "name": "stdout",
          "text": [
            "55\n"
          ]
        }
      ]
    },
    {
      "cell_type": "code",
      "source": [
        "#Q-6: Write a generator function in Python that yields the powers of 2 up to a given exponent.\n",
        "def powers(e):\n",
        "    for i in range(e + 1):\n",
        "        yield 2 ** i\n",
        "\n",
        "for num in powers(5):\n",
        "    print(num, end=\" \")\n"
      ],
      "metadata": {
        "colab": {
          "base_uri": "https://localhost:8080/"
        },
        "id": "nn-uEFIgX6tz",
        "outputId": "c05ff04e-ea7b-43e9-d061-d9cf2eeb7c63"
      },
      "execution_count": 9,
      "outputs": [
        {
          "output_type": "stream",
          "name": "stdout",
          "text": [
            "1 2 4 8 16 32 "
          ]
        }
      ]
    },
    {
      "cell_type": "code",
      "source": [
        "#Q-7:Implement a generator function that reads a file line by line and yields each line as a string.\n",
        "def read_file_line_by_line(file_path):\n",
        "    with open(file_path, \"r\") as file:\n",
        "        for line in file:\n",
        "            yield line\n",
        "\n",
        "\n",
        "file_path = \"example.txt\"\n",
        "for line in read_file_line_by_line(file_path):\n",
        "    print(line.strip())\n"
      ],
      "metadata": {
        "id": "pPvpT01_Ycko"
      },
      "execution_count": 11,
      "outputs": []
    },
    {
      "cell_type": "code",
      "source": [
        "#Q-8:  Use a lambda function in Python to sort a list of tuples based on the second element of each tuple.\n",
        "\n",
        "data = [(1, 3), (4, 1), (2,3), (5,2)]\n",
        "\n",
        "sorted_data = sorted(data, key=lambda x: x[1])\n",
        "\n",
        "print(sorted_data)\n"
      ],
      "metadata": {
        "colab": {
          "base_uri": "https://localhost:8080/"
        },
        "id": "5NPyjMIpZ2h-",
        "outputId": "dea9078b-3b8f-4374-ca44-ec0abe535030"
      },
      "execution_count": 12,
      "outputs": [
        {
          "output_type": "stream",
          "name": "stdout",
          "text": [
            "[(4, 1), (5, 2), (1, 3), (2, 3)]\n"
          ]
        }
      ]
    },
    {
      "cell_type": "code",
      "source": [
        "#Q-9:Write a Python program that uses `map()` to convert a list of temperatures from Celsius to Fahrenheit.\n"
      ],
      "metadata": {
        "id": "P2iznO-IaltJ"
      },
      "execution_count": null,
      "outputs": []
    },
    {
      "cell_type": "code",
      "source": [
        "#Q-10:Create a Python program that uses `filter()` to remove all the vowels from a given string.\n",
        "is_not_vowel = lambda char: char.lower() not in \"aeiou\"\n",
        "\n",
        "text = \"Hello,Kevin !\"\n",
        "\n",
        "filtered_text = \"\".join(filter(is_not_vowel, text))\n",
        "\n",
        "print(filtered_text)\n",
        "\n"
      ],
      "metadata": {
        "colab": {
          "base_uri": "https://localhost:8080/"
        },
        "id": "6LW37TIIZzjA",
        "outputId": "8a559cda-87ed-4202-e1ca-b406ea9a4fed"
      },
      "execution_count": 15,
      "outputs": [
        {
          "output_type": "stream",
          "name": "stdout",
          "text": [
            "Hll,Kvn !\n"
          ]
        }
      ]
    },
    {
      "cell_type": "code",
      "source": [
        "#Q-11: ) Imagine an accounting routine used in a book shop. It works on a list with sublists, which look like this:\n",
        "orders = [\n",
        "    [34587, \"Learning Python, Mark Lutz\", 4, 40.95],\n",
        "    [98762, \"Programming Python, Mark Lutz\", 5, 56.80],\n",
        "    [77226, \"Head First Python, Paul Barry\", 3, 32.95],\n",
        "    [88112, \"Einführung in Python3, Bernd Klein\", 3, 24.99]\n",
        "]\n",
        "order_totals = list(map(lambda order: (order[0],(order[2] * order[3]) + 10 if (order[2] * order[3]) < 100 else (order[2] * order[3])), orders))\n",
        "print(order_totals)"
      ],
      "metadata": {
        "colab": {
          "base_uri": "https://localhost:8080/"
        },
        "id": "cUj8oh4-bqml",
        "outputId": "4c862146-9b7c-489a-dc7d-f6990c6b3487"
      },
      "execution_count": 16,
      "outputs": [
        {
          "output_type": "stream",
          "name": "stdout",
          "text": [
            "[(34587, 163.8), (98762, 284.0), (77226, 108.85000000000001), (88112, 84.97)]\n"
          ]
        }
      ]
    },
    {
      "cell_type": "code",
      "source": [],
      "metadata": {
        "id": "StYNYX9DcaB4"
      },
      "execution_count": null,
      "outputs": []
    },
    {
      "cell_type": "code",
      "source": [],
      "metadata": {
        "id": "TJ8jIZk1boVc"
      },
      "execution_count": null,
      "outputs": []
    },
    {
      "cell_type": "code",
      "source": [],
      "metadata": {
        "id": "_lFfVFBdbZW4"
      },
      "execution_count": null,
      "outputs": []
    },
    {
      "cell_type": "code",
      "source": [],
      "metadata": {
        "id": "45I3KMzcX3_u"
      },
      "execution_count": null,
      "outputs": []
    },
    {
      "cell_type": "code",
      "source": [],
      "metadata": {
        "id": "YSG3E-dyXwXV"
      },
      "execution_count": null,
      "outputs": []
    },
    {
      "cell_type": "code",
      "source": [],
      "metadata": {
        "id": "cmw0pnxZVheO"
      },
      "execution_count": null,
      "outputs": []
    },
    {
      "cell_type": "code",
      "source": [],
      "metadata": {
        "id": "U6Pu_cN7VFEZ"
      },
      "execution_count": null,
      "outputs": []
    },
    {
      "cell_type": "code",
      "source": [],
      "metadata": {
        "id": "7HacO1xbVEYz"
      },
      "execution_count": null,
      "outputs": []
    },
    {
      "cell_type": "code",
      "source": [],
      "metadata": {
        "id": "IBzjgyVHVD5K"
      },
      "execution_count": null,
      "outputs": []
    }
  ]
}